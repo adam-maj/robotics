{
 "cells": [
  {
   "cell_type": "markdown",
   "metadata": {},
   "source": [
    "# Notes\n",
    "\n",
    "> Research on biped humanoid robots is currently one of the most exciting topics in the field of robotics.\n",
    "\n",
    "There are 2 approaches to locomotion at the time. One approach requires precise knowledge of the robot dynamics and uses perfect models. The other approach uses limited knowledge and feedback control (the inverted pendulum approach).\n",
    "\n",
    "> In this paper we introduce a novel walking pattern generation that allows arbitrary foot placements as a mixture of the ZMP based and the inverted pendulum based approaches.\n",
    "\n",
    "### Walking pattern generation for a given ZMP\n",
    "\n",
    "They use FFT and inverse FFT to solve the desired CoM trajectory given the desired ZMP point.\n",
    "\n",
    "They use a ZMP control output that takes the future input as its input.\n",
    "\n",
    "> The walking pattern is calculated by solving an inverse kinematics such that the CoM of the robot follows the output of the preview controller.\n",
    "\n",
    "### Conclusion\n",
    "\n",
    "> We proposed a new method for biped walking pattern generation. First we introduced a cart-table model, which is a convenient representation to design a ZMP controller.\n",
    "\n",
    "After reviewing conventional methods that uses ZMP to generate walking pattern, we formalized the problem as the design of a ZMP tracking servo controller. It was shown that we can design such controller by adopting the preview control that uses the future ZMP reference.\n"
   ]
  }
 ],
 "metadata": {
  "language_info": {
   "name": "python"
  }
 },
 "nbformat": 4,
 "nbformat_minor": 2
}
