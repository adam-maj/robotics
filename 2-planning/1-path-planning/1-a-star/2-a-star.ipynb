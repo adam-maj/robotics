{
 "cells": [
  {
   "cell_type": "markdown",
   "metadata": {},
   "source": [
    "# Notes\n",
    "\n",
    "A\\* is basically Dijkstra’s but with a heuristic that you’re moving in the correct direction, rather than just taking the shortest path.\n",
    "\n",
    "These algorithms require a 2D/3D grid and don’t work well in higher dimensional configuration spaces like the real world.\n"
   ]
  }
 ],
 "metadata": {
  "language_info": {
   "name": "python"
  }
 },
 "nbformat": 4,
 "nbformat_minor": 2
}
