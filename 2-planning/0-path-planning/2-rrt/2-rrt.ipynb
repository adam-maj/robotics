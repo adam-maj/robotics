{
  "cells": [
    {
      "cell_type": "markdown",
      "metadata": {},
      "source": [
        "# Notes\n",
        "\n",
        "RRT is a path planning algorithm good for non-holonomic constraints (the robot can’t just point and go wherever it wants to but is actually constrained by its dynamics to follow valid paths) and high degrees of freedom (can handle higher dimensional spaces characteristic of the real world).\n",
        "\n",
        "> There is little hope of ever obtaining an efficient, general path planning algorithm.\n",
        "\n",
        "> The primary difficulty with existing (sampling based) techniques is that, although powerful for standard path planning, they do not naturally extend to general non-holonomic planning problems.\n",
        "\n",
        "> In the probabilistic roadmap approach, a graph is constructed in the configuration space by generating random configurations and attempting to connect pairs of nearby configurations with a local planner that will connect pairs of configurations.\n",
        "\n",
        "PRM gets challenging in non-holonomic systems where it may need to make thousands of random samples to find a valid path.\n",
        "\n",
        "> In this paper, we introduce a randomized data structure for path planning that is designed for problems that have non-holonomic constraints.\n",
        "\n",
        "PRM and RRT are designed with as few heuristics and arbitrary parameters as possible, leading to consistent behavior.\n",
        "\n",
        "### Rapidly-Exploring Random Trees\n",
        "\n",
        "We deal with a state space $X$, practically the configuration space of a robot in a 3D environment $X = \\mathcal{C}$ where we want to find a path from some $x_\\textrm{init}$ to some goal region $X_\\textrm{goal} \\sub X$ or goal state $x_\\textrm{goal}$.\n",
        "\n",
        "We need to find the tangent bundle of the configuration space to solve this problem $X = T(\\mathcal{C})$.\n",
        "\n",
        "There are some states in the environment that are obstacles that must be avoided $X_\\textrm{obs}$ either due to actual obstacles in the environment or constraints in robot dynamics. The solution vertices and edges must be all states in $X_\\textrm{obs}$.\n",
        "\n",
        "Importantly, you don’t know where all of $X_\\textrm{obs}$ is and may only be able to check in real time whether a state is in the set.\n",
        "\n",
        "We have the state transition equation $\\dot{x} = f(x, u)$ giving the derivative of the state from the current state $x$ and specific control inputs $u$. In holonomic problems, $x$ can change in any direction. In nonholonomic problems, $x$ is constrained to certain changes.\n",
        "\n",
        "![Screenshot 2024-11-12 at 4.58.34 PM.png](../../../images/Screenshot_2024-11-12_at_4.58.34_PM.png)\n",
        "\n",
        "RRTs have the following advantages:\n",
        "\n",
        "- RRTs are heavily biased toward expanding into unexplored regions\n",
        "- Distribution of RRT vertices approaches sampling distribution\n",
        "- Simple algorithm\n",
        "- RRT is always connected and can be used as a path planning module\n",
        "\n",
        "Because RRT selects the nearest neighbor in the graph, it prompts the tree to expand outward and explored regions it hasn’t previously explored.\n",
        "\n",
        "> Based on simulation experiments such as the one shown above, we have concluded that the generated paths are not far from optimal and that the vertices will eventually become uniformly distributed.\n",
        "\n",
        "> Based on our preliminary experiments, it appears that RRTs might be faster than the basic probabilistic roadmap approach for holonomic planning problems.\n",
        "\n",
        "> Collision detection is a key bottleneck in path planning, and an RRT is completely suited for incremental collision detection.\n",
        "\n",
        "![Screenshot 2024-11-12 at 5.17.34 PM.png](../../../images/Screenshot_2024-11-12_at_5.17.34_PM.png)\n",
        "\n",
        "Efficient nearest neighbor techniques are needed to make RRT good.\n",
        "\n",
        "> At the present time, we believe we have barely scratched the surface of potential applications of RRTs."
      ]
    }
  ],
  "metadata": {
    "language_info": {
      "name": "python"
    }
  },
  "nbformat": 4,
  "nbformat_minor": 2
}
